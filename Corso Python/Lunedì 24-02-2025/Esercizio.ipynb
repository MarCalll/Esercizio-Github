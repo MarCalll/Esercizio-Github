{
 "cells": [
  {
   "cell_type": "code",
   "execution_count": null,
   "id": "868de5f4-6f4c-4439-8f07-8de33abfbd2c",
   "metadata": {},
   "outputs": [],
   "source": [
    "import numpy as np\n",
    "import pandas as pd\n",
    "import matplotlib.pyplot as plt\n",
    "\n",
    "# Parametri\n",
    "n_giorni = 365\n",
    "media = 1200\n",
    "dev_std = 900\n",
    "\n",
    "# Genera la serie di visitatori con rumore casuale\n",
    "np.random.seed(42)  # Per riproducibilità\n",
    "visitatori = np.random.normal(loc=media, scale=dev_std, size=n_giorni)\n",
    "\n",
    "# Aggiungi un trend decrescente (es. diminuzione lineare)\n",
    "trend_decrescente = np.linspace(0, -400, n_giorni)\n",
    "visitatori_con_trend = visitatori + trend_decrescente\n",
    "\n",
    "# Assicura che il numero di visitatori non sia negativo\n",
    "visitatori_con_trend = np.clip(visitatori_con_trend, 0, None)\n",
    "\n",
    "# Crea un DataFrame con le date come colonna\n",
    "date = pd.date_range(start=\"2023-01-01\", periods=n_giorni)\n",
    "patologie = np.random.choice([\"ossa\", \"cuore\", \"testa\"], size=n_giorni)\n",
    "df = pd.DataFrame({\"dates\": date, \"Visitatori\": visitatori_con_trend, \"Patologia\": patologie})\n",
    "\n",
    "# Visualizza il DataFrame\n",
    "print(df.head())\n",
    "\n",
    "# Visualizza il risultato\n",
    "plt.figure(figsize=(12, 6))\n",
    "plt.plot(df[\"dates\"], df[\"Visitatori\"], label=\"Visitatori giornalieri\")\n",
    "plt.title(\"Simulazione visitatori giornalieri in ospedale\")\n",
    "plt.xlabel(\"Data\")\n",
    "plt.ylabel(\"Numero di visitatori\")\n",
    "plt.legend()\n",
    "plt.grid(True)\n",
    "plt.show()\n",
    "\n"
   ]
  },
  {
   "cell_type": "code",
   "execution_count": null,
   "id": "410b2ef0-bff5-4632-85f9-ec3b4aa2e416",
   "metadata": {},
   "outputs": [],
   "source": [
    "df['month'] = df['dates'].dt.to_period('M')\n",
    "media_visitatori_mese = df.groupby('month')['Visitatori'].mean()\n",
    "print('\\n',media_visitatori_mese)\n",
    "std_visitatori_mese = df.groupby('month')['Visitatori'].std()\n",
    "print('\\n',std_visitatori_mese)\n",
    "count_patologie = df.groupby('Patologia')['Visitatori'].count()\n",
    "print('\\n',count_patologie)"
   ]
  },
  {
   "cell_type": "code",
   "execution_count": null,
   "id": "c92d6ae8-ec70-4b3a-8934-022ffbc4ffd3",
   "metadata": {},
   "outputs": [],
   "source": [
    "# Calcolo della media mobile a 7 giorni\n",
    "df['Media_mobile_7gg'] = df['Visitatori'].rolling(window=7).mean()\n",
    "\n",
    "# Grafico del numero di visitatori giornalieri con la media mobile a 7 giorni\n",
    "plt.figure(figsize=(10, 6))\n",
    "plt.plot(df.index, df['Visitatori'], label='Visitatori giornalieri', color='b')\n",
    "plt.plot(df.index, df['Media_mobile_7gg'], label='Media mobile a 7 giorni', color='r', linestyle='--')\n",
    "plt.title('Numero di visitatori giornalieri all\\'ospedale con media mobile a 7 giorni')\n",
    "plt.xlabel('Data')\n",
    "plt.ylabel('Numero di visitatori')\n",
    "plt.grid(True)\n",
    "plt.xticks(rotation=45)\n",
    "plt.tight_layout()\n",
    "plt.legend()\n",
    "plt.show()"
   ]
  },
  {
   "cell_type": "code",
   "execution_count": null,
   "id": "dacadbf5-aa46-4eca-9892-f803aa4f6716",
   "metadata": {},
   "outputs": [],
   "source": [
    "plt.figure(figsize=(12, 6))\n",
    "plt.plot(media_visitatori_mese.index.astype(str), media_visitatori_mese, marker='o', label=\"Media mensile dei visitatori\", color='b')\n",
    "plt.title(\"Media mensile dei visitatori con trend decrescente\")\n",
    "plt.xlabel(\"Mese\")\n",
    "plt.ylabel(\"Numero di visitatori\")\n",
    "plt.xticks(rotation=45)\n",
    "plt.grid(True)\n",
    "plt.tight_layout()\n",
    "plt.legend()\n",
    "plt.show()"
   ]
  },
  {
   "cell_type": "code",
   "execution_count": null,
   "id": "0598f642-59a9-4c2a-8494-91abcf077b81",
   "metadata": {},
   "outputs": [],
   "source": [
    "plt.figure(figsize=(8, 5))\n",
    "count_patologie.plot(kind='bar', color=['skyblue', 'lightgreen', 'salmon'])\n",
    "plt.title(\"Distribuzione dei visitatori per patologia\")\n",
    "plt.xlabel(\"Patologia\")\n",
    "plt.ylabel(\"Numero di visitatori\")\n",
    "plt.xticks(rotation=0)\n",
    "plt.grid(True, axis='y', linestyle='--', alpha=0.7)\n",
    "plt.tight_layout()\n",
    "plt.show()"
   ]
  }
 ],
 "metadata": {
  "kernelspec": {
   "display_name": "Python [conda env:base] *",
   "language": "python",
   "name": "conda-base-py"
  },
  "language_info": {
   "codemirror_mode": {
    "name": "ipython",
    "version": 3
   },
   "file_extension": ".py",
   "mimetype": "text/x-python",
   "name": "python",
   "nbconvert_exporter": "python",
   "pygments_lexer": "ipython3",
   "version": "3.12.7"
  }
 },
 "nbformat": 4,
 "nbformat_minor": 5
}
